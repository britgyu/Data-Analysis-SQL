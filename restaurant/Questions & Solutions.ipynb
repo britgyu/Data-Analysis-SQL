{
 "cells": [
  {
   "cell_type": "code",
   "execution_count": 1,
   "id": "6ce64083",
   "metadata": {},
   "outputs": [],
   "source": [
    "import sqlite3\n",
    "import pandas as pd"
   ]
  },
  {
   "cell_type": "code",
   "execution_count": 2,
   "id": "15b51663",
   "metadata": {},
   "outputs": [],
   "source": [
    "cnn = sqlite3.connect(\"restaurant.db\") #sqlite connection"
   ]
  },
  {
   "cell_type": "code",
   "execution_count": 3,
   "id": "344912bb",
   "metadata": {},
   "outputs": [],
   "source": [
    "c = cnn.cursor() #sqlite cursor"
   ]
  },
  {
   "cell_type": "code",
   "execution_count": 4,
   "id": "25e8dc97",
   "metadata": {},
   "outputs": [
    {
     "data": {
      "text/html": [
       "<div>\n",
       "<style scoped>\n",
       "    .dataframe tbody tr th:only-of-type {\n",
       "        vertical-align: middle;\n",
       "    }\n",
       "\n",
       "    .dataframe tbody tr th {\n",
       "        vertical-align: top;\n",
       "    }\n",
       "\n",
       "    .dataframe thead th {\n",
       "        text-align: right;\n",
       "    }\n",
       "</style>\n",
       "<table border=\"1\" class=\"dataframe\">\n",
       "  <thead>\n",
       "    <tr style=\"text-align: right;\">\n",
       "      <th></th>\n",
       "      <th>CustomerID</th>\n",
       "      <th>FirstName</th>\n",
       "      <th>LastName</th>\n",
       "      <th>Email</th>\n",
       "      <th>Address</th>\n",
       "      <th>City</th>\n",
       "      <th>State</th>\n",
       "      <th>Phone</th>\n",
       "      <th>Birthday</th>\n",
       "      <th>FavoriteDish</th>\n",
       "    </tr>\n",
       "  </thead>\n",
       "  <tbody>\n",
       "    <tr>\n",
       "      <th>0</th>\n",
       "      <td>1</td>\n",
       "      <td>Maggi</td>\n",
       "      <td>Domney</td>\n",
       "      <td>mdomney0@wisdompets.com</td>\n",
       "      <td>53177 Fieldstone Pass</td>\n",
       "      <td>San Bernardino</td>\n",
       "      <td>CA</td>\n",
       "      <td>760-702-5469</td>\n",
       "      <td>1938-10-11</td>\n",
       "      <td>15</td>\n",
       "    </tr>\n",
       "    <tr>\n",
       "      <th>1</th>\n",
       "      <td>2</td>\n",
       "      <td>Javier</td>\n",
       "      <td>Dawks</td>\n",
       "      <td>jdawks1@red30design.com</td>\n",
       "      <td>25629 Brown Trail</td>\n",
       "      <td>Hartford</td>\n",
       "      <td>CT</td>\n",
       "      <td>860-906-1459</td>\n",
       "      <td>1953-11-21</td>\n",
       "      <td>13</td>\n",
       "    </tr>\n",
       "    <tr>\n",
       "      <th>2</th>\n",
       "      <td>3</td>\n",
       "      <td>Aleen</td>\n",
       "      <td>Fasey</td>\n",
       "      <td>afasey2@kinetecoinc.com</td>\n",
       "      <td>41967 Mockingbird Court</td>\n",
       "      <td>Boca Raton</td>\n",
       "      <td>FL</td>\n",
       "      <td>561-410-2222</td>\n",
       "      <td>1900-08-10</td>\n",
       "      <td>3</td>\n",
       "    </tr>\n",
       "    <tr>\n",
       "      <th>3</th>\n",
       "      <td>4</td>\n",
       "      <td>Taylor</td>\n",
       "      <td>Jenkins</td>\n",
       "      <td>tjenkins@rouxacademy.org</td>\n",
       "      <td>968 Bartillon Park</td>\n",
       "      <td>Fort Lauderdale</td>\n",
       "      <td>FL</td>\n",
       "      <td>954-555-7424</td>\n",
       "      <td>1961-05-02</td>\n",
       "      <td>8</td>\n",
       "    </tr>\n",
       "    <tr>\n",
       "      <th>4</th>\n",
       "      <td>5</td>\n",
       "      <td>Imogen</td>\n",
       "      <td>Kabsch</td>\n",
       "      <td>ikabsch@landonhotel.com</td>\n",
       "      <td>222 Hudson Point</td>\n",
       "      <td>Anderson</td>\n",
       "      <td>SC</td>\n",
       "      <td>864-326-7456</td>\n",
       "      <td>1919-08-27</td>\n",
       "      <td>17</td>\n",
       "    </tr>\n",
       "  </tbody>\n",
       "</table>\n",
       "</div>"
      ],
      "text/plain": [
       "   CustomerID FirstName LastName                     Email  \\\n",
       "0           1     Maggi   Domney   mdomney0@wisdompets.com   \n",
       "1           2    Javier    Dawks   jdawks1@red30design.com   \n",
       "2           3     Aleen    Fasey   afasey2@kinetecoinc.com   \n",
       "3           4    Taylor  Jenkins  tjenkins@rouxacademy.org   \n",
       "4           5    Imogen   Kabsch   ikabsch@landonhotel.com   \n",
       "\n",
       "                   Address             City State         Phone    Birthday  \\\n",
       "0    53177 Fieldstone Pass   San Bernardino    CA  760-702-5469  1938-10-11   \n",
       "1        25629 Brown Trail         Hartford    CT  860-906-1459  1953-11-21   \n",
       "2  41967 Mockingbird Court       Boca Raton    FL  561-410-2222  1900-08-10   \n",
       "3       968 Bartillon Park  Fort Lauderdale    FL  954-555-7424  1961-05-02   \n",
       "4         222 Hudson Point         Anderson    SC  864-326-7456  1919-08-27   \n",
       "\n",
       "   FavoriteDish  \n",
       "0            15  \n",
       "1            13  \n",
       "2             3  \n",
       "3             8  \n",
       "4            17  "
      ]
     },
     "execution_count": 4,
     "metadata": {},
     "output_type": "execute_result"
    }
   ],
   "source": [
    "query = \"\"\"SELECT * \n",
    "        FROM Customers \n",
    "        LIMIT 5\"\"\"\n",
    "pd.read_sql_query(query, cnn)"
   ]
  },
  {
   "cell_type": "markdown",
   "id": "85215e65",
   "metadata": {},
   "source": [
    "### Challenge 1\n",
    "\n",
    "Generate a list of customer information. Show their first name, last name, and email address. And sort the list of rasults by last name"
   ]
  },
  {
   "cell_type": "code",
   "execution_count": 5,
   "id": "76ac55a9",
   "metadata": {},
   "outputs": [
    {
     "data": {
      "text/html": [
       "<div>\n",
       "<style scoped>\n",
       "    .dataframe tbody tr th:only-of-type {\n",
       "        vertical-align: middle;\n",
       "    }\n",
       "\n",
       "    .dataframe tbody tr th {\n",
       "        vertical-align: top;\n",
       "    }\n",
       "\n",
       "    .dataframe thead th {\n",
       "        text-align: right;\n",
       "    }\n",
       "</style>\n",
       "<table border=\"1\" class=\"dataframe\">\n",
       "  <thead>\n",
       "    <tr style=\"text-align: right;\">\n",
       "      <th></th>\n",
       "      <th>FirstName</th>\n",
       "      <th>LastName</th>\n",
       "      <th>Email</th>\n",
       "    </tr>\n",
       "  </thead>\n",
       "  <tbody>\n",
       "    <tr>\n",
       "      <th>0</th>\n",
       "      <td>Giraldo</td>\n",
       "      <td>Algar</td>\n",
       "      <td>galgar21@kinetecoinc.com</td>\n",
       "    </tr>\n",
       "    <tr>\n",
       "      <th>1</th>\n",
       "      <td>Gustave</td>\n",
       "      <td>Alphonso</td>\n",
       "      <td>galphonso28@wisdompets.com</td>\n",
       "    </tr>\n",
       "    <tr>\n",
       "      <th>2</th>\n",
       "      <td>Romeo</td>\n",
       "      <td>Annett</td>\n",
       "      <td>rannett1e@samoca.org</td>\n",
       "    </tr>\n",
       "    <tr>\n",
       "      <th>3</th>\n",
       "      <td>Herby</td>\n",
       "      <td>Aspinal</td>\n",
       "      <td>haspinals@red30design.com</td>\n",
       "    </tr>\n",
       "    <tr>\n",
       "      <th>4</th>\n",
       "      <td>Emlyn</td>\n",
       "      <td>Attwool</td>\n",
       "      <td>eattwoolt@hplussport.com</td>\n",
       "    </tr>\n",
       "  </tbody>\n",
       "</table>\n",
       "</div>"
      ],
      "text/plain": [
       "  FirstName  LastName                       Email\n",
       "0   Giraldo     Algar    galgar21@kinetecoinc.com\n",
       "1   Gustave  Alphonso  galphonso28@wisdompets.com\n",
       "2     Romeo    Annett        rannett1e@samoca.org\n",
       "3     Herby   Aspinal   haspinals@red30design.com\n",
       "4     Emlyn   Attwool    eattwoolt@hplussport.com"
      ]
     },
     "execution_count": 5,
     "metadata": {},
     "output_type": "execute_result"
    }
   ],
   "source": [
    "query = \"\"\"\n",
    "SELECT FirstName, LastName, Email\n",
    "FROM Customers\n",
    "ORDER BY LastName\n",
    "\"\"\"\n",
    "pd.read_sql_query(query, cnn).head(5)"
   ]
  },
  {
   "cell_type": "markdown",
   "id": "114e0371",
   "metadata": {},
   "source": [
    "### Challenge 2\n",
    "\n",
    "Create a table in the database to store customers responses to anniversary invitation. Associate a customer's ID mumber with the number of people they plan to bring in their party\n"
   ]
  },
  {
   "cell_type": "code",
   "execution_count": 6,
   "id": "6cff4d00",
   "metadata": {},
   "outputs": [
    {
     "data": {
      "text/plain": [
       "<sqlite3.Cursor at 0x2bd53ec55e0>"
      ]
     },
     "execution_count": 6,
     "metadata": {},
     "output_type": "execute_result"
    }
   ],
   "source": [
    "query = \"\"\"\n",
    "    DROP TABLE AnniversaryAttendees\n",
    "    \"\"\"\n",
    "c.execute(query)"
   ]
  },
  {
   "cell_type": "code",
   "execution_count": 7,
   "id": "7c72ed15",
   "metadata": {},
   "outputs": [
    {
     "data": {
      "text/plain": [
       "<sqlite3.Cursor at 0x2bd53ec55e0>"
      ]
     },
     "execution_count": 7,
     "metadata": {},
     "output_type": "execute_result"
    }
   ],
   "source": [
    "query = \"\"\"\n",
    "CREATE TABLE AnniversaryAttendees(\n",
    "    CustomerID INTEGER,\n",
    "    PartySize INTEGER\n",
    "    )\n",
    "    \"\"\"\n",
    "c.execute(query)"
   ]
  },
  {
   "cell_type": "code",
   "execution_count": 8,
   "id": "9b2a7ea3",
   "metadata": {},
   "outputs": [
    {
     "data": {
      "text/html": [
       "<div>\n",
       "<style scoped>\n",
       "    .dataframe tbody tr th:only-of-type {\n",
       "        vertical-align: middle;\n",
       "    }\n",
       "\n",
       "    .dataframe tbody tr th {\n",
       "        vertical-align: top;\n",
       "    }\n",
       "\n",
       "    .dataframe thead th {\n",
       "        text-align: right;\n",
       "    }\n",
       "</style>\n",
       "<table border=\"1\" class=\"dataframe\">\n",
       "  <thead>\n",
       "    <tr style=\"text-align: right;\">\n",
       "      <th></th>\n",
       "      <th>CustomerID</th>\n",
       "      <th>PartySize</th>\n",
       "    </tr>\n",
       "  </thead>\n",
       "  <tbody>\n",
       "  </tbody>\n",
       "</table>\n",
       "</div>"
      ],
      "text/plain": [
       "Empty DataFrame\n",
       "Columns: [CustomerID, PartySize]\n",
       "Index: []"
      ]
     },
     "execution_count": 8,
     "metadata": {},
     "output_type": "execute_result"
    }
   ],
   "source": [
    "query = \"\"\"\n",
    "        SELECT *\n",
    "        FROM AnniversaryAttendees\n",
    "    \"\"\"\n",
    "pd.read_sql_query(query,cnn)"
   ]
  },
  {
   "cell_type": "markdown",
   "id": "3481317a",
   "metadata": {},
   "source": [
    "### Challenge 3\n",
    "\n",
    "Create reports that will be used to make three menus.\n",
    "- Create a report with all the items sorted by price (lowest to hihest)\n",
    "- Create a report showing appetizers and beverages\n",
    "- Create a report with all items except beverages"
   ]
  },
  {
   "cell_type": "code",
   "execution_count": 9,
   "id": "266e883b",
   "metadata": {},
   "outputs": [
    {
     "data": {
      "text/html": [
       "<div>\n",
       "<style scoped>\n",
       "    .dataframe tbody tr th:only-of-type {\n",
       "        vertical-align: middle;\n",
       "    }\n",
       "\n",
       "    .dataframe tbody tr th {\n",
       "        vertical-align: top;\n",
       "    }\n",
       "\n",
       "    .dataframe thead th {\n",
       "        text-align: right;\n",
       "    }\n",
       "</style>\n",
       "<table border=\"1\" class=\"dataframe\">\n",
       "  <thead>\n",
       "    <tr style=\"text-align: right;\">\n",
       "      <th></th>\n",
       "      <th>Type</th>\n",
       "      <th>Name</th>\n",
       "      <th>Price</th>\n",
       "      <th>Description</th>\n",
       "    </tr>\n",
       "  </thead>\n",
       "  <tbody>\n",
       "    <tr>\n",
       "      <th>0</th>\n",
       "      <td>Beverage</td>\n",
       "      <td>Pomegranate Iced Tea</td>\n",
       "      <td>4.0</td>\n",
       "      <td>Our unique blend of pomegranate juice, black R...</td>\n",
       "    </tr>\n",
       "    <tr>\n",
       "      <th>1</th>\n",
       "      <td>Dessert</td>\n",
       "      <td>Apple Pie</td>\n",
       "      <td>5.0</td>\n",
       "      <td>Made with local granny smith apples to bring y...</td>\n",
       "    </tr>\n",
       "    <tr>\n",
       "      <th>2</th>\n",
       "      <td>Dessert</td>\n",
       "      <td>Chocolate Chip Brownie</td>\n",
       "      <td>6.0</td>\n",
       "      <td>A warm chocolate chip brownie served with choc...</td>\n",
       "    </tr>\n",
       "    <tr>\n",
       "      <th>3</th>\n",
       "      <td>Beverage</td>\n",
       "      <td>Tropical Blue Smoothie</td>\n",
       "      <td>6.0</td>\n",
       "      <td>This blueberry mint-based smoothie is refreshi...</td>\n",
       "    </tr>\n",
       "    <tr>\n",
       "      <th>4</th>\n",
       "      <td>Beverage</td>\n",
       "      <td>Cafe Latte</td>\n",
       "      <td>6.0</td>\n",
       "      <td>Our house blend of espresso and foamed milk. C...</td>\n",
       "    </tr>\n",
       "  </tbody>\n",
       "</table>\n",
       "</div>"
      ],
      "text/plain": [
       "       Type                    Name  Price  \\\n",
       "0  Beverage    Pomegranate Iced Tea    4.0   \n",
       "1   Dessert               Apple Pie    5.0   \n",
       "2   Dessert  Chocolate Chip Brownie    6.0   \n",
       "3  Beverage  Tropical Blue Smoothie    6.0   \n",
       "4  Beverage              Cafe Latte    6.0   \n",
       "\n",
       "                                         Description  \n",
       "0  Our unique blend of pomegranate juice, black R...  \n",
       "1  Made with local granny smith apples to bring y...  \n",
       "2  A warm chocolate chip brownie served with choc...  \n",
       "3  This blueberry mint-based smoothie is refreshi...  \n",
       "4  Our house blend of espresso and foamed milk. C...  "
      ]
     },
     "execution_count": 9,
     "metadata": {},
     "output_type": "execute_result"
    }
   ],
   "source": [
    "query = \"\"\"\n",
    "        SELECT Type, Name, Price, Description \n",
    "        FROM Dishes\n",
    "        ORDER BY Price\n",
    "        LIMIT 5\"\"\"\n",
    "pd.read_sql_query(query, cnn)"
   ]
  },
  {
   "cell_type": "code",
   "execution_count": 10,
   "id": "053ce594",
   "metadata": {},
   "outputs": [
    {
     "data": {
      "text/html": [
       "<div>\n",
       "<style scoped>\n",
       "    .dataframe tbody tr th:only-of-type {\n",
       "        vertical-align: middle;\n",
       "    }\n",
       "\n",
       "    .dataframe tbody tr th {\n",
       "        vertical-align: top;\n",
       "    }\n",
       "\n",
       "    .dataframe thead th {\n",
       "        text-align: right;\n",
       "    }\n",
       "</style>\n",
       "<table border=\"1\" class=\"dataframe\">\n",
       "  <thead>\n",
       "    <tr style=\"text-align: right;\">\n",
       "      <th></th>\n",
       "      <th>Type</th>\n",
       "      <th>Name</th>\n",
       "      <th>Price</th>\n",
       "      <th>Description</th>\n",
       "    </tr>\n",
       "  </thead>\n",
       "  <tbody>\n",
       "    <tr>\n",
       "      <th>0</th>\n",
       "      <td>Appetizer</td>\n",
       "      <td>Parmesan Deviled Eggs</td>\n",
       "      <td>8.00</td>\n",
       "      <td>These delectable little bites are made with or...</td>\n",
       "    </tr>\n",
       "    <tr>\n",
       "      <th>1</th>\n",
       "      <td>Appetizer</td>\n",
       "      <td>Artichokes with Garlic Aioli</td>\n",
       "      <td>9.00</td>\n",
       "      <td>Our artichokes are brushed with an olive oil a...</td>\n",
       "    </tr>\n",
       "    <tr>\n",
       "      <th>2</th>\n",
       "      <td>Appetizer</td>\n",
       "      <td>Panko Stuffed Mushrooms</td>\n",
       "      <td>7.00</td>\n",
       "      <td>Large mushroom caps are filled a savory cream ...</td>\n",
       "    </tr>\n",
       "    <tr>\n",
       "      <th>3</th>\n",
       "      <td>Appetizer</td>\n",
       "      <td>Barbecued Tofu Skewers</td>\n",
       "      <td>9.99</td>\n",
       "      <td>Our barbecued skewers include tofu, cherry tom...</td>\n",
       "    </tr>\n",
       "    <tr>\n",
       "      <th>4</th>\n",
       "      <td>Beverage</td>\n",
       "      <td>Tropical Blue Smoothie</td>\n",
       "      <td>6.00</td>\n",
       "      <td>This blueberry mint-based smoothie is refreshi...</td>\n",
       "    </tr>\n",
       "  </tbody>\n",
       "</table>\n",
       "</div>"
      ],
      "text/plain": [
       "        Type                          Name  Price  \\\n",
       "0  Appetizer         Parmesan Deviled Eggs   8.00   \n",
       "1  Appetizer  Artichokes with Garlic Aioli   9.00   \n",
       "2  Appetizer       Panko Stuffed Mushrooms   7.00   \n",
       "3  Appetizer        Barbecued Tofu Skewers   9.99   \n",
       "4   Beverage        Tropical Blue Smoothie   6.00   \n",
       "\n",
       "                                         Description  \n",
       "0  These delectable little bites are made with or...  \n",
       "1  Our artichokes are brushed with an olive oil a...  \n",
       "2  Large mushroom caps are filled a savory cream ...  \n",
       "3  Our barbecued skewers include tofu, cherry tom...  \n",
       "4  This blueberry mint-based smoothie is refreshi...  "
      ]
     },
     "execution_count": 10,
     "metadata": {},
     "output_type": "execute_result"
    }
   ],
   "source": [
    "query = \"\"\"\n",
    "        SELECT Type, Name, Price, Description \n",
    "        FROM Dishes\n",
    "        WHERE Type == \"Beverage\" OR Type == \"Appetizer\"\n",
    "        ORDER BY Type\n",
    "        LIMIT 5\"\"\"\n",
    "\n",
    "pd.read_sql_query(query, cnn)"
   ]
  },
  {
   "cell_type": "code",
   "execution_count": 11,
   "id": "17366d2e",
   "metadata": {},
   "outputs": [
    {
     "data": {
      "text/html": [
       "<div>\n",
       "<style scoped>\n",
       "    .dataframe tbody tr th:only-of-type {\n",
       "        vertical-align: middle;\n",
       "    }\n",
       "\n",
       "    .dataframe tbody tr th {\n",
       "        vertical-align: top;\n",
       "    }\n",
       "\n",
       "    .dataframe thead th {\n",
       "        text-align: right;\n",
       "    }\n",
       "</style>\n",
       "<table border=\"1\" class=\"dataframe\">\n",
       "  <thead>\n",
       "    <tr style=\"text-align: right;\">\n",
       "      <th></th>\n",
       "      <th>Type</th>\n",
       "      <th>Name</th>\n",
       "      <th>Price</th>\n",
       "      <th>Description</th>\n",
       "    </tr>\n",
       "  </thead>\n",
       "  <tbody>\n",
       "    <tr>\n",
       "      <th>0</th>\n",
       "      <td>Appetizer</td>\n",
       "      <td>Parmesan Deviled Eggs</td>\n",
       "      <td>8.00</td>\n",
       "      <td>These delectable little bites are made with or...</td>\n",
       "    </tr>\n",
       "    <tr>\n",
       "      <th>1</th>\n",
       "      <td>Appetizer</td>\n",
       "      <td>Artichokes with Garlic Aioli</td>\n",
       "      <td>9.00</td>\n",
       "      <td>Our artichokes are brushed with an olive oil a...</td>\n",
       "    </tr>\n",
       "    <tr>\n",
       "      <th>2</th>\n",
       "      <td>Appetizer</td>\n",
       "      <td>Panko Stuffed Mushrooms</td>\n",
       "      <td>7.00</td>\n",
       "      <td>Large mushroom caps are filled a savory cream ...</td>\n",
       "    </tr>\n",
       "    <tr>\n",
       "      <th>3</th>\n",
       "      <td>Appetizer</td>\n",
       "      <td>Barbecued Tofu Skewers</td>\n",
       "      <td>9.99</td>\n",
       "      <td>Our barbecued skewers include tofu, cherry tom...</td>\n",
       "    </tr>\n",
       "    <tr>\n",
       "      <th>4</th>\n",
       "      <td>Dessert</td>\n",
       "      <td>Creme Brulee</td>\n",
       "      <td>9.00</td>\n",
       "      <td>Elegantly crafted creamy vanilla custard with ...</td>\n",
       "    </tr>\n",
       "  </tbody>\n",
       "</table>\n",
       "</div>"
      ],
      "text/plain": [
       "        Type                          Name  Price  \\\n",
       "0  Appetizer         Parmesan Deviled Eggs   8.00   \n",
       "1  Appetizer  Artichokes with Garlic Aioli   9.00   \n",
       "2  Appetizer       Panko Stuffed Mushrooms   7.00   \n",
       "3  Appetizer        Barbecued Tofu Skewers   9.99   \n",
       "4    Dessert                  Creme Brulee   9.00   \n",
       "\n",
       "                                         Description  \n",
       "0  These delectable little bites are made with or...  \n",
       "1  Our artichokes are brushed with an olive oil a...  \n",
       "2  Large mushroom caps are filled a savory cream ...  \n",
       "3  Our barbecued skewers include tofu, cherry tom...  \n",
       "4  Elegantly crafted creamy vanilla custard with ...  "
      ]
     },
     "execution_count": 11,
     "metadata": {},
     "output_type": "execute_result"
    }
   ],
   "source": [
    "query = \"\"\"\n",
    "        SELECT Type, Name, Price, Description \n",
    "        FROM Dishes\n",
    "        WHERE Type != \"Beverage\" \n",
    "        ORDER BY Type\n",
    "        LIMIT 5\"\"\"\n",
    "\n",
    "pd.read_sql_query(query, cnn)"
   ]
  },
  {
   "cell_type": "markdown",
   "id": "431dbf4e",
   "metadata": {},
   "source": [
    "### Challenge 4\n",
    "\n",
    "Add a customer to the restaurant's loyalty program. Use the following information to create a record:\n",
    "- Anna Smith (asmith@samoca.org)\n",
    "- 479 Lapis Dr., Memphis, TN\n",
    "- Phone: (555) 555-1212; Birthday: July 21, 1973"
   ]
  },
  {
   "cell_type": "code",
   "execution_count": 12,
   "id": "2d41f941",
   "metadata": {},
   "outputs": [
    {
     "data": {
      "text/plain": [
       "<sqlite3.Cursor at 0x2bd53ec55e0>"
      ]
     },
     "execution_count": 12,
     "metadata": {},
     "output_type": "execute_result"
    }
   ],
   "source": [
    "query = \"\"\"\n",
    "        INSERT INTO Customers(FirstName, LastName, Email, Address, City,State, Phone, Birthday)\n",
    "        VALUES (\"Anna\", \"Smith\", \"asmith@samoca.org\",\"479 Lapis Dr.\", \"Memphis\",\"TN\",\"555-555-1212\", \"1973-07-21\")\n",
    "\"\"\"\n",
    "c.execute(query)"
   ]
  },
  {
   "cell_type": "code",
   "execution_count": 13,
   "id": "b390ff64",
   "metadata": {},
   "outputs": [
    {
     "data": {
      "text/html": [
       "<div>\n",
       "<style scoped>\n",
       "    .dataframe tbody tr th:only-of-type {\n",
       "        vertical-align: middle;\n",
       "    }\n",
       "\n",
       "    .dataframe tbody tr th {\n",
       "        vertical-align: top;\n",
       "    }\n",
       "\n",
       "    .dataframe thead th {\n",
       "        text-align: right;\n",
       "    }\n",
       "</style>\n",
       "<table border=\"1\" class=\"dataframe\">\n",
       "  <thead>\n",
       "    <tr style=\"text-align: right;\">\n",
       "      <th></th>\n",
       "      <th>CustomerID</th>\n",
       "      <th>FirstName</th>\n",
       "      <th>LastName</th>\n",
       "      <th>Email</th>\n",
       "      <th>Address</th>\n",
       "      <th>City</th>\n",
       "      <th>State</th>\n",
       "      <th>Phone</th>\n",
       "      <th>Birthday</th>\n",
       "      <th>FavoriteDish</th>\n",
       "    </tr>\n",
       "  </thead>\n",
       "  <tbody>\n",
       "    <tr>\n",
       "      <th>0</th>\n",
       "      <td>101</td>\n",
       "      <td>Anna</td>\n",
       "      <td>Smith</td>\n",
       "      <td>asmith@samoca.org</td>\n",
       "      <td>479 Lapis Dr.</td>\n",
       "      <td>Memphis</td>\n",
       "      <td>TN</td>\n",
       "      <td>555-555-1212</td>\n",
       "      <td>1973-07-21</td>\n",
       "      <td>NaN</td>\n",
       "    </tr>\n",
       "    <tr>\n",
       "      <th>1</th>\n",
       "      <td>100</td>\n",
       "      <td>Blythe</td>\n",
       "      <td>Leggan</td>\n",
       "      <td>bleggan2r@rouxacademy.org</td>\n",
       "      <td>1622 Golf Course Hill</td>\n",
       "      <td>Montgomery</td>\n",
       "      <td>AL</td>\n",
       "      <td>334-770-7364</td>\n",
       "      <td>1996-06-11</td>\n",
       "      <td>5.0</td>\n",
       "    </tr>\n",
       "    <tr>\n",
       "      <th>2</th>\n",
       "      <td>99</td>\n",
       "      <td>Kala</td>\n",
       "      <td>Stevenson</td>\n",
       "      <td>kstevenson@landonhotel.com</td>\n",
       "      <td>95 Waywood Street</td>\n",
       "      <td>Huntington</td>\n",
       "      <td>WV</td>\n",
       "      <td>304-681-5208</td>\n",
       "      <td>1947-11-30</td>\n",
       "      <td>5.0</td>\n",
       "    </tr>\n",
       "    <tr>\n",
       "      <th>3</th>\n",
       "      <td>98</td>\n",
       "      <td>Clem</td>\n",
       "      <td>Durdy</td>\n",
       "      <td>cdurdy2p@hplussport.com</td>\n",
       "      <td>594 Bonner Point</td>\n",
       "      <td>Des Moines</td>\n",
       "      <td>IA</td>\n",
       "      <td>515-680-5018</td>\n",
       "      <td>1988-03-10</td>\n",
       "      <td>16.0</td>\n",
       "    </tr>\n",
       "    <tr>\n",
       "      <th>4</th>\n",
       "      <td>97</td>\n",
       "      <td>Herb</td>\n",
       "      <td>McParland</td>\n",
       "      <td>hmcparland2o@rouxacademy.org</td>\n",
       "      <td>39 Algoma Park</td>\n",
       "      <td>Chicago</td>\n",
       "      <td>IL</td>\n",
       "      <td>630-950-3309</td>\n",
       "      <td>1916-12-25</td>\n",
       "      <td>14.0</td>\n",
       "    </tr>\n",
       "  </tbody>\n",
       "</table>\n",
       "</div>"
      ],
      "text/plain": [
       "   CustomerID FirstName   LastName                         Email  \\\n",
       "0         101      Anna      Smith             asmith@samoca.org   \n",
       "1         100    Blythe     Leggan     bleggan2r@rouxacademy.org   \n",
       "2          99      Kala  Stevenson    kstevenson@landonhotel.com   \n",
       "3          98      Clem      Durdy       cdurdy2p@hplussport.com   \n",
       "4          97      Herb  McParland  hmcparland2o@rouxacademy.org   \n",
       "\n",
       "                 Address        City State         Phone    Birthday  \\\n",
       "0          479 Lapis Dr.     Memphis    TN  555-555-1212  1973-07-21   \n",
       "1  1622 Golf Course Hill  Montgomery    AL  334-770-7364  1996-06-11   \n",
       "2      95 Waywood Street  Huntington    WV  304-681-5208  1947-11-30   \n",
       "3       594 Bonner Point  Des Moines    IA  515-680-5018  1988-03-10   \n",
       "4         39 Algoma Park     Chicago    IL  630-950-3309  1916-12-25   \n",
       "\n",
       "   FavoriteDish  \n",
       "0           NaN  \n",
       "1           5.0  \n",
       "2           5.0  \n",
       "3          16.0  \n",
       "4          14.0  "
      ]
     },
     "execution_count": 13,
     "metadata": {},
     "output_type": "execute_result"
    }
   ],
   "source": [
    "query = \"\"\"\n",
    "        SELECT *\n",
    "        FROM Customers\n",
    "        ORDER BY CustomerID DESC\n",
    "        LIMIT 5\n",
    "\"\"\"\n",
    "pd.read_sql_query(query, cnn)"
   ]
  },
  {
   "cell_type": "markdown",
   "id": "11add485",
   "metadata": {},
   "source": [
    "### Challenge 5\n",
    "\n",
    "Update a customer's contact information\n",
    "\n",
    "- Taylor Jenkins, of 27170 6th Ave., Washington, DC has moved to 74 Pine St., New York, Ny\n",
    "Actualizar la información de un cliente en la tabla Customer"
   ]
  },
  {
   "cell_type": "code",
   "execution_count": 14,
   "id": "5bb7b253",
   "metadata": {},
   "outputs": [
    {
     "data": {
      "text/html": [
       "<div>\n",
       "<style scoped>\n",
       "    .dataframe tbody tr th:only-of-type {\n",
       "        vertical-align: middle;\n",
       "    }\n",
       "\n",
       "    .dataframe tbody tr th {\n",
       "        vertical-align: top;\n",
       "    }\n",
       "\n",
       "    .dataframe thead th {\n",
       "        text-align: right;\n",
       "    }\n",
       "</style>\n",
       "<table border=\"1\" class=\"dataframe\">\n",
       "  <thead>\n",
       "    <tr style=\"text-align: right;\">\n",
       "      <th></th>\n",
       "      <th>CustomerID</th>\n",
       "      <th>FirstName</th>\n",
       "      <th>LastName</th>\n",
       "      <th>Email</th>\n",
       "      <th>Address</th>\n",
       "      <th>City</th>\n",
       "      <th>State</th>\n",
       "      <th>Phone</th>\n",
       "      <th>Birthday</th>\n",
       "      <th>FavoriteDish</th>\n",
       "    </tr>\n",
       "  </thead>\n",
       "  <tbody>\n",
       "    <tr>\n",
       "      <th>0</th>\n",
       "      <td>26</td>\n",
       "      <td>Taylor</td>\n",
       "      <td>Jenkins</td>\n",
       "      <td>tjenkins@red30design.com</td>\n",
       "      <td>27170 6th Ave.</td>\n",
       "      <td>Washington</td>\n",
       "      <td>DC</td>\n",
       "      <td>202-765-8011</td>\n",
       "      <td>1922-05-05</td>\n",
       "      <td>12</td>\n",
       "    </tr>\n",
       "  </tbody>\n",
       "</table>\n",
       "</div>"
      ],
      "text/plain": [
       "   CustomerID FirstName LastName                     Email         Address  \\\n",
       "0          26    Taylor  Jenkins  tjenkins@red30design.com  27170 6th Ave.   \n",
       "\n",
       "         City State         Phone    Birthday  FavoriteDish  \n",
       "0  Washington    DC  202-765-8011  1922-05-05            12  "
      ]
     },
     "execution_count": 14,
     "metadata": {},
     "output_type": "execute_result"
    }
   ],
   "source": [
    "query = \"\"\"\n",
    "        SELECT *\n",
    "        FROM Customers\n",
    "        WHERE FirstName = 'Taylor'\n",
    "        AND City = 'Washington'\n",
    "\"\"\"\n",
    "pd.read_sql_query(query, cnn)"
   ]
  },
  {
   "cell_type": "code",
   "execution_count": 15,
   "id": "b9a0f208",
   "metadata": {},
   "outputs": [
    {
     "data": {
      "text/plain": [
       "<sqlite3.Cursor at 0x2bd53ec55e0>"
      ]
     },
     "execution_count": 15,
     "metadata": {},
     "output_type": "execute_result"
    }
   ],
   "source": [
    "query = \"\"\"\n",
    "    UPDATE Customers\n",
    "    SET Address = '74 Pine St.',\n",
    "        City = 'New York',\n",
    "        State = 'NY'\n",
    "    WHERE CustomerID = 26\n",
    "\"\"\"\n",
    "c.execute(query)"
   ]
  },
  {
   "cell_type": "code",
   "execution_count": 16,
   "id": "e3dab0cc",
   "metadata": {},
   "outputs": [
    {
     "data": {
      "text/html": [
       "<div>\n",
       "<style scoped>\n",
       "    .dataframe tbody tr th:only-of-type {\n",
       "        vertical-align: middle;\n",
       "    }\n",
       "\n",
       "    .dataframe tbody tr th {\n",
       "        vertical-align: top;\n",
       "    }\n",
       "\n",
       "    .dataframe thead th {\n",
       "        text-align: right;\n",
       "    }\n",
       "</style>\n",
       "<table border=\"1\" class=\"dataframe\">\n",
       "  <thead>\n",
       "    <tr style=\"text-align: right;\">\n",
       "      <th></th>\n",
       "      <th>CustomerID</th>\n",
       "      <th>FirstName</th>\n",
       "      <th>LastName</th>\n",
       "      <th>Email</th>\n",
       "      <th>Address</th>\n",
       "      <th>City</th>\n",
       "      <th>State</th>\n",
       "      <th>Phone</th>\n",
       "      <th>Birthday</th>\n",
       "      <th>FavoriteDish</th>\n",
       "    </tr>\n",
       "  </thead>\n",
       "  <tbody>\n",
       "    <tr>\n",
       "      <th>0</th>\n",
       "      <td>26</td>\n",
       "      <td>Taylor</td>\n",
       "      <td>Jenkins</td>\n",
       "      <td>tjenkins@red30design.com</td>\n",
       "      <td>74 Pine St.</td>\n",
       "      <td>New York</td>\n",
       "      <td>NY</td>\n",
       "      <td>202-765-8011</td>\n",
       "      <td>1922-05-05</td>\n",
       "      <td>12</td>\n",
       "    </tr>\n",
       "  </tbody>\n",
       "</table>\n",
       "</div>"
      ],
      "text/plain": [
       "   CustomerID FirstName LastName                     Email      Address  \\\n",
       "0          26    Taylor  Jenkins  tjenkins@red30design.com  74 Pine St.   \n",
       "\n",
       "       City State         Phone    Birthday  FavoriteDish  \n",
       "0  New York    NY  202-765-8011  1922-05-05            12  "
      ]
     },
     "execution_count": 16,
     "metadata": {},
     "output_type": "execute_result"
    }
   ],
   "source": [
    "query = \"\"\"\n",
    "        SELECT *\n",
    "        FROM Customers\n",
    "        WHERE CustomerID = 26\n",
    "\"\"\"\n",
    "pd.read_sql_query(query, cnn)"
   ]
  },
  {
   "cell_type": "markdown",
   "id": "87fd1bbf",
   "metadata": {},
   "source": [
    "### Challenge 6\n",
    "\n",
    "Remove incorrect information from the database: A customer named Norby has notified us he won't be able to keep his Friday reservation (Today i July 24, 2022)\n"
   ]
  },
  {
   "cell_type": "code",
   "execution_count": 17,
   "id": "a0418038",
   "metadata": {},
   "outputs": [
    {
     "data": {
      "text/html": [
       "<div>\n",
       "<style scoped>\n",
       "    .dataframe tbody tr th:only-of-type {\n",
       "        vertical-align: middle;\n",
       "    }\n",
       "\n",
       "    .dataframe tbody tr th {\n",
       "        vertical-align: top;\n",
       "    }\n",
       "\n",
       "    .dataframe thead th {\n",
       "        text-align: right;\n",
       "    }\n",
       "</style>\n",
       "<table border=\"1\" class=\"dataframe\">\n",
       "  <thead>\n",
       "    <tr style=\"text-align: right;\">\n",
       "      <th></th>\n",
       "      <th>ReservationID</th>\n",
       "      <th>CustomerID</th>\n",
       "      <th>Date</th>\n",
       "      <th>PartySize</th>\n",
       "      <th>CustomerID</th>\n",
       "      <th>FirstName</th>\n",
       "      <th>LastName</th>\n",
       "      <th>Email</th>\n",
       "      <th>Address</th>\n",
       "      <th>City</th>\n",
       "      <th>State</th>\n",
       "      <th>Phone</th>\n",
       "      <th>Birthday</th>\n",
       "      <th>FavoriteDish</th>\n",
       "    </tr>\n",
       "  </thead>\n",
       "  <tbody>\n",
       "    <tr>\n",
       "      <th>0</th>\n",
       "      <td>2000</td>\n",
       "      <td>64</td>\n",
       "      <td>2022-07-29 18:30:00</td>\n",
       "      <td>4</td>\n",
       "      <td>64</td>\n",
       "      <td>Norby</td>\n",
       "      <td>Sleight</td>\n",
       "      <td>nsleight1r@kinetecoinc.com</td>\n",
       "      <td>16198 Welch Place</td>\n",
       "      <td>Oklahoma City</td>\n",
       "      <td>OK</td>\n",
       "      <td>405-786-8722</td>\n",
       "      <td>1955-11-13</td>\n",
       "      <td>7</td>\n",
       "    </tr>\n",
       "  </tbody>\n",
       "</table>\n",
       "</div>"
      ],
      "text/plain": [
       "   ReservationID  CustomerID                 Date  PartySize  CustomerID  \\\n",
       "0           2000          64  2022-07-29 18:30:00          4          64   \n",
       "\n",
       "  FirstName LastName                       Email            Address  \\\n",
       "0     Norby  Sleight  nsleight1r@kinetecoinc.com  16198 Welch Place   \n",
       "\n",
       "            City State         Phone    Birthday  FavoriteDish  \n",
       "0  Oklahoma City    OK  405-786-8722  1955-11-13             7  "
      ]
     },
     "execution_count": 17,
     "metadata": {},
     "output_type": "execute_result"
    }
   ],
   "source": [
    "query = \"\"\"\n",
    "        SELECT *\n",
    "        FROM Reservations\n",
    "        INNER JOIN Customers ON Reservations.CustomerID = Customers.CustomerID\n",
    "        WHERE Customers.FirstName = \"Norby\"\n",
    "        AND Reservations.Date > \"2022-07-24\"\n",
    "\"\"\"\n",
    "pd.read_sql_query(query, cnn)"
   ]
  },
  {
   "cell_type": "code",
   "execution_count": 18,
   "id": "3513a2a0",
   "metadata": {},
   "outputs": [],
   "source": [
    "query = \"\"\"\n",
    "        DELETE FROM Reservations\n",
    "        WHERE ReservationID = 2000\n",
    "\"\"\"\n",
    "#c.execute(query, cnn)"
   ]
  },
  {
   "cell_type": "markdown",
   "id": "ddd378f7",
   "metadata": {},
   "source": [
    "or;\n"
   ]
  },
  {
   "cell_type": "code",
   "execution_count": 19,
   "id": "6431d378",
   "metadata": {},
   "outputs": [
    {
     "data": {
      "text/plain": [
       "'\\nUPDATE Reservations\\nSET Date = NULL\\nWHERE ReservationId = 2000\\n'"
      ]
     },
     "execution_count": 19,
     "metadata": {},
     "output_type": "execute_result"
    }
   ],
   "source": [
    "\"\"\"\n",
    "UPDATE Reservations\n",
    "SET Date = NULL\n",
    "WHERE ReservationId = 2000\n",
    "\"\"\""
   ]
  },
  {
   "cell_type": "markdown",
   "id": "d5adc126",
   "metadata": {},
   "source": [
    "### Challenge 7\n",
    "\n",
    "Register a customer for our Anniversary event.\n",
    "The customer 'atapley2j@kinetecoinc.com' will be in attendance and willl bring 3 friends (PartySize = 4)"
   ]
  },
  {
   "cell_type": "code",
   "execution_count": 20,
   "id": "67c19fcb",
   "metadata": {},
   "outputs": [
    {
     "data": {
      "text/plain": [
       "<sqlite3.Cursor at 0x2bd53ec55e0>"
      ]
     },
     "execution_count": 20,
     "metadata": {},
     "output_type": "execute_result"
    }
   ],
   "source": [
    "query = \"\"\"\n",
    "    INSERT INTO AnniversaryAttendees(CustomerID, PartySize)\n",
    "    VALUES((SELECT CustomerID\n",
    "           FROM Customers\n",
    "           WHERE Email = 'atapley2j@kinetecoinc.com'), 4\n",
    ")\"\"\"\n",
    "c.execute(query)"
   ]
  },
  {
   "cell_type": "code",
   "execution_count": 21,
   "id": "7fb48319",
   "metadata": {},
   "outputs": [
    {
     "data": {
      "text/html": [
       "<div>\n",
       "<style scoped>\n",
       "    .dataframe tbody tr th:only-of-type {\n",
       "        vertical-align: middle;\n",
       "    }\n",
       "\n",
       "    .dataframe tbody tr th {\n",
       "        vertical-align: top;\n",
       "    }\n",
       "\n",
       "    .dataframe thead th {\n",
       "        text-align: right;\n",
       "    }\n",
       "</style>\n",
       "<table border=\"1\" class=\"dataframe\">\n",
       "  <thead>\n",
       "    <tr style=\"text-align: right;\">\n",
       "      <th></th>\n",
       "      <th>CustomerID</th>\n",
       "      <th>PartySize</th>\n",
       "    </tr>\n",
       "  </thead>\n",
       "  <tbody>\n",
       "    <tr>\n",
       "      <th>0</th>\n",
       "      <td>92</td>\n",
       "      <td>4</td>\n",
       "    </tr>\n",
       "  </tbody>\n",
       "</table>\n",
       "</div>"
      ],
      "text/plain": [
       "   CustomerID  PartySize\n",
       "0          92          4"
      ]
     },
     "execution_count": 21,
     "metadata": {},
     "output_type": "execute_result"
    }
   ],
   "source": [
    "query = \"\"\"\n",
    "        SELECT *\n",
    "        FROM AnniversaryAttendees\n",
    "       \n",
    "\"\"\"\n",
    "pd.read_sql_query(query, cnn)"
   ]
  },
  {
   "cell_type": "markdown",
   "id": "b9ebcf4e",
   "metadata": {},
   "source": [
    "### Challenge 8\n",
    "\n",
    "Find the reservation information for a customer whose name aren't quite sure how to spell. Variations of tha name include; Stevensen, Stephensen, Atevenson, Stephenson, Stuyvesant. There are 4 people in the party and today is june 14th."
   ]
  },
  {
   "cell_type": "code",
   "execution_count": 22,
   "id": "3659d5e1",
   "metadata": {},
   "outputs": [
    {
     "data": {
      "text/html": [
       "<div>\n",
       "<style scoped>\n",
       "    .dataframe tbody tr th:only-of-type {\n",
       "        vertical-align: middle;\n",
       "    }\n",
       "\n",
       "    .dataframe tbody tr th {\n",
       "        vertical-align: top;\n",
       "    }\n",
       "\n",
       "    .dataframe thead th {\n",
       "        text-align: right;\n",
       "    }\n",
       "</style>\n",
       "<table border=\"1\" class=\"dataframe\">\n",
       "  <thead>\n",
       "    <tr style=\"text-align: right;\">\n",
       "      <th></th>\n",
       "      <th>FirstName</th>\n",
       "      <th>LastName</th>\n",
       "      <th>Date</th>\n",
       "      <th>PartySize</th>\n",
       "    </tr>\n",
       "  </thead>\n",
       "  <tbody>\n",
       "    <tr>\n",
       "      <th>0</th>\n",
       "      <td>Paco</td>\n",
       "      <td>Stephenson</td>\n",
       "      <td>2022-06-14 18:30:00</td>\n",
       "      <td>4</td>\n",
       "    </tr>\n",
       "    <tr>\n",
       "      <th>1</th>\n",
       "      <td>Paco</td>\n",
       "      <td>Stephenson</td>\n",
       "      <td>2022-03-27 10:00:00</td>\n",
       "      <td>4</td>\n",
       "    </tr>\n",
       "    <tr>\n",
       "      <th>2</th>\n",
       "      <td>Kala</td>\n",
       "      <td>Stevenson</td>\n",
       "      <td>2021-10-19 09:30:00</td>\n",
       "      <td>4</td>\n",
       "    </tr>\n",
       "    <tr>\n",
       "      <th>3</th>\n",
       "      <td>Orton</td>\n",
       "      <td>Stavers</td>\n",
       "      <td>2021-07-09 17:00:00</td>\n",
       "      <td>4</td>\n",
       "    </tr>\n",
       "    <tr>\n",
       "      <th>4</th>\n",
       "      <td>Iver</td>\n",
       "      <td>Stevensen</td>\n",
       "      <td>2020-08-18 16:00:00</td>\n",
       "      <td>4</td>\n",
       "    </tr>\n",
       "    <tr>\n",
       "      <th>5</th>\n",
       "      <td>Kala</td>\n",
       "      <td>Stevenson</td>\n",
       "      <td>2020-06-20 12:00:00</td>\n",
       "      <td>4</td>\n",
       "    </tr>\n",
       "    <tr>\n",
       "      <th>6</th>\n",
       "      <td>Orton</td>\n",
       "      <td>Stavers</td>\n",
       "      <td>2019-10-24 13:00:00</td>\n",
       "      <td>4</td>\n",
       "    </tr>\n",
       "    <tr>\n",
       "      <th>7</th>\n",
       "      <td>Orton</td>\n",
       "      <td>Stavers</td>\n",
       "      <td>2019-07-13 08:00:00</td>\n",
       "      <td>4</td>\n",
       "    </tr>\n",
       "    <tr>\n",
       "      <th>8</th>\n",
       "      <td>Orton</td>\n",
       "      <td>Stavers</td>\n",
       "      <td>2019-07-04 11:30:00</td>\n",
       "      <td>4</td>\n",
       "    </tr>\n",
       "    <tr>\n",
       "      <th>9</th>\n",
       "      <td>Kala</td>\n",
       "      <td>Stevenson</td>\n",
       "      <td>2019-01-08 13:30:00</td>\n",
       "      <td>4</td>\n",
       "    </tr>\n",
       "    <tr>\n",
       "      <th>10</th>\n",
       "      <td>Kala</td>\n",
       "      <td>Stevenson</td>\n",
       "      <td>2018-12-19 15:00:00</td>\n",
       "      <td>4</td>\n",
       "    </tr>\n",
       "    <tr>\n",
       "      <th>11</th>\n",
       "      <td>Orton</td>\n",
       "      <td>Stavers</td>\n",
       "      <td>2018-12-03 09:30:00</td>\n",
       "      <td>4</td>\n",
       "    </tr>\n",
       "  </tbody>\n",
       "</table>\n",
       "</div>"
      ],
      "text/plain": [
       "   FirstName    LastName                 Date  PartySize\n",
       "0       Paco  Stephenson  2022-06-14 18:30:00          4\n",
       "1       Paco  Stephenson  2022-03-27 10:00:00          4\n",
       "2       Kala   Stevenson  2021-10-19 09:30:00          4\n",
       "3      Orton     Stavers  2021-07-09 17:00:00          4\n",
       "4       Iver   Stevensen  2020-08-18 16:00:00          4\n",
       "5       Kala   Stevenson  2020-06-20 12:00:00          4\n",
       "6      Orton     Stavers  2019-10-24 13:00:00          4\n",
       "7      Orton     Stavers  2019-07-13 08:00:00          4\n",
       "8      Orton     Stavers  2019-07-04 11:30:00          4\n",
       "9       Kala   Stevenson  2019-01-08 13:30:00          4\n",
       "10      Kala   Stevenson  2018-12-19 15:00:00          4\n",
       "11     Orton     Stavers  2018-12-03 09:30:00          4"
      ]
     },
     "execution_count": 22,
     "metadata": {},
     "output_type": "execute_result"
    }
   ],
   "source": [
    "query = \"\"\"\n",
    "        SELECT Customers.FirstName, Customers.LastName, Reservations.Date, Reservations.PartySize\n",
    "        FROM Customers\n",
    "        JOIN Reservations ON Customers.CustomerID = Reservations.CustomerID\n",
    "        WHERE Customers.LastName LIKE \"St%\"\n",
    "        AND Reservations.PartySize = 4\n",
    "        ORDER BY Reservations.Date DESC\n",
    "\"\"\"\n",
    "\n",
    "pd.read_sql_query(query, cnn)"
   ]
  },
  {
   "cell_type": "markdown",
   "id": "bcbd476d",
   "metadata": {},
   "source": [
    "### Challenge 9\n",
    "\n",
    "Create a reservation for a customer who may or may not already be listed in our Customers table. Use the following information:\n",
    "\n",
    "- Sam McAdams - 12 August 2022, 6PM (5 people)\n",
    "- smac@kinetecoinc.com / (555) 555-1212\n"
   ]
  },
  {
   "cell_type": "code",
   "execution_count": 23,
   "id": "c15d7e21",
   "metadata": {},
   "outputs": [
    {
     "data": {
      "text/html": [
       "<div>\n",
       "<style scoped>\n",
       "    .dataframe tbody tr th:only-of-type {\n",
       "        vertical-align: middle;\n",
       "    }\n",
       "\n",
       "    .dataframe tbody tr th {\n",
       "        vertical-align: top;\n",
       "    }\n",
       "\n",
       "    .dataframe thead th {\n",
       "        text-align: right;\n",
       "    }\n",
       "</style>\n",
       "<table border=\"1\" class=\"dataframe\">\n",
       "  <thead>\n",
       "    <tr style=\"text-align: right;\">\n",
       "      <th></th>\n",
       "      <th>CustomerID</th>\n",
       "    </tr>\n",
       "  </thead>\n",
       "  <tbody>\n",
       "  </tbody>\n",
       "</table>\n",
       "</div>"
      ],
      "text/plain": [
       "Empty DataFrame\n",
       "Columns: [CustomerID]\n",
       "Index: []"
      ]
     },
     "execution_count": 23,
     "metadata": {},
     "output_type": "execute_result"
    }
   ],
   "source": [
    "query = \"\"\"\n",
    "    Select CustomerID\n",
    "    FROM Customers\n",
    "    WHERE Email = \"smac@kinetecoinc.com\"\n",
    "\"\"\"\n",
    "pd.read_sql_query(query, cnn)\n"
   ]
  },
  {
   "cell_type": "code",
   "execution_count": 24,
   "id": "51ff5835",
   "metadata": {
    "scrolled": true
   },
   "outputs": [
    {
     "data": {
      "text/plain": [
       "<sqlite3.Cursor at 0x2bd53ec55e0>"
      ]
     },
     "execution_count": 24,
     "metadata": {},
     "output_type": "execute_result"
    }
   ],
   "source": [
    "query = \"\"\"\n",
    "INSERT INTO Customers(FirstName, LastName, Email, Phone)\n",
    "VALUES(\"Sam\",\"McAdams\",\"smac@kinetecoinc.com\",\"555 555 1212\")\n",
    "\"\"\"\n",
    "c.execute(query)"
   ]
  },
  {
   "cell_type": "code",
   "execution_count": 25,
   "id": "43af8253",
   "metadata": {},
   "outputs": [
    {
     "data": {
      "text/html": [
       "<div>\n",
       "<style scoped>\n",
       "    .dataframe tbody tr th:only-of-type {\n",
       "        vertical-align: middle;\n",
       "    }\n",
       "\n",
       "    .dataframe tbody tr th {\n",
       "        vertical-align: top;\n",
       "    }\n",
       "\n",
       "    .dataframe thead th {\n",
       "        text-align: right;\n",
       "    }\n",
       "</style>\n",
       "<table border=\"1\" class=\"dataframe\">\n",
       "  <thead>\n",
       "    <tr style=\"text-align: right;\">\n",
       "      <th></th>\n",
       "      <th>CustomerID</th>\n",
       "    </tr>\n",
       "  </thead>\n",
       "  <tbody>\n",
       "    <tr>\n",
       "      <th>0</th>\n",
       "      <td>102</td>\n",
       "    </tr>\n",
       "  </tbody>\n",
       "</table>\n",
       "</div>"
      ],
      "text/plain": [
       "   CustomerID\n",
       "0         102"
      ]
     },
     "execution_count": 25,
     "metadata": {},
     "output_type": "execute_result"
    }
   ],
   "source": [
    "query = \"\"\"\n",
    "    Select CustomerID\n",
    "    FROM Customers\n",
    "    WHERE Email = \"smac@kinetecoinc.com\"\n",
    "\"\"\"\n",
    "pd.read_sql_query(query, cnn)"
   ]
  },
  {
   "cell_type": "markdown",
   "id": "939dd50d",
   "metadata": {},
   "source": [
    "### Challenge 10\n",
    "\n",
    "Enter a customer's delivery order into aour database and provide the total cost of the items ordered. Use this information:\n",
    "\n",
    "- Customer: Loretta Hundey, at 6939 Elka Place\n",
    "- Items: 1 House Salad, 1 Mini Cheeseburgers and 1 Tropical Blue Smoothie\n",
    "- Delivery data and time: September 20, 2022 @ 2PM "
   ]
  },
  {
   "cell_type": "code",
   "execution_count": 26,
   "id": "6ae0fdf8",
   "metadata": {},
   "outputs": [
    {
     "data": {
      "text/html": [
       "<div>\n",
       "<style scoped>\n",
       "    .dataframe tbody tr th:only-of-type {\n",
       "        vertical-align: middle;\n",
       "    }\n",
       "\n",
       "    .dataframe tbody tr th {\n",
       "        vertical-align: top;\n",
       "    }\n",
       "\n",
       "    .dataframe thead th {\n",
       "        text-align: right;\n",
       "    }\n",
       "</style>\n",
       "<table border=\"1\" class=\"dataframe\">\n",
       "  <thead>\n",
       "    <tr style=\"text-align: right;\">\n",
       "      <th></th>\n",
       "      <th>CustomerID</th>\n",
       "      <th>FirstName</th>\n",
       "      <th>LastName</th>\n",
       "      <th>Phone</th>\n",
       "    </tr>\n",
       "  </thead>\n",
       "  <tbody>\n",
       "    <tr>\n",
       "      <th>0</th>\n",
       "      <td>70</td>\n",
       "      <td>Loretta</td>\n",
       "      <td>Hundey</td>\n",
       "      <td>310-730-8619</td>\n",
       "    </tr>\n",
       "  </tbody>\n",
       "</table>\n",
       "</div>"
      ],
      "text/plain": [
       "   CustomerID FirstName LastName         Phone\n",
       "0          70   Loretta   Hundey  310-730-8619"
      ]
     },
     "execution_count": 26,
     "metadata": {},
     "output_type": "execute_result"
    }
   ],
   "source": [
    "query = \"\"\"\n",
    "        SELECT CustomerID, FirstName, LastName, Phone\n",
    "        FROM Customers\n",
    "        WHERE Address = '6939 Elka Place' AND LastName = 'Hundey'\n",
    "\"\"\"\n",
    "pd.read_sql_query(query, cnn)"
   ]
  },
  {
   "cell_type": "code",
   "execution_count": 27,
   "id": "fa53a3ad",
   "metadata": {},
   "outputs": [
    {
     "data": {
      "text/plain": [
       "<sqlite3.Cursor at 0x2bd53ec55e0>"
      ]
     },
     "execution_count": 27,
     "metadata": {},
     "output_type": "execute_result"
    }
   ],
   "source": [
    "query = \"\"\"\n",
    "        INSERT INTO Orders(CustomerID, OrderDate)\n",
    "        VALUES (70, '2022-09-20 14:00:00')\n",
    "\"\"\"\n",
    "c.execute(query)"
   ]
  },
  {
   "cell_type": "code",
   "execution_count": 28,
   "id": "80dcd4aa",
   "metadata": {},
   "outputs": [
    {
     "data": {
      "text/html": [
       "<div>\n",
       "<style scoped>\n",
       "    .dataframe tbody tr th:only-of-type {\n",
       "        vertical-align: middle;\n",
       "    }\n",
       "\n",
       "    .dataframe tbody tr th {\n",
       "        vertical-align: top;\n",
       "    }\n",
       "\n",
       "    .dataframe thead th {\n",
       "        text-align: right;\n",
       "    }\n",
       "</style>\n",
       "<table border=\"1\" class=\"dataframe\">\n",
       "  <thead>\n",
       "    <tr style=\"text-align: right;\">\n",
       "      <th></th>\n",
       "      <th>OrderID</th>\n",
       "      <th>CustomerID</th>\n",
       "      <th>OrderDate</th>\n",
       "    </tr>\n",
       "  </thead>\n",
       "  <tbody>\n",
       "    <tr>\n",
       "      <th>0</th>\n",
       "      <td>1001</td>\n",
       "      <td>70</td>\n",
       "      <td>2022-09-20 14:00:00</td>\n",
       "    </tr>\n",
       "    <tr>\n",
       "      <th>1</th>\n",
       "      <td>887</td>\n",
       "      <td>70</td>\n",
       "      <td>2022-01-01 08:13:00</td>\n",
       "    </tr>\n",
       "    <tr>\n",
       "      <th>2</th>\n",
       "      <td>855</td>\n",
       "      <td>70</td>\n",
       "      <td>2021-11-03 11:33:00</td>\n",
       "    </tr>\n",
       "    <tr>\n",
       "      <th>3</th>\n",
       "      <td>836</td>\n",
       "      <td>70</td>\n",
       "      <td>2021-10-11 14:54:00</td>\n",
       "    </tr>\n",
       "    <tr>\n",
       "      <th>4</th>\n",
       "      <td>695</td>\n",
       "      <td>70</td>\n",
       "      <td>2021-03-23 15:49:00</td>\n",
       "    </tr>\n",
       "    <tr>\n",
       "      <th>5</th>\n",
       "      <td>523</td>\n",
       "      <td>70</td>\n",
       "      <td>2020-06-21 13:19:00</td>\n",
       "    </tr>\n",
       "    <tr>\n",
       "      <th>6</th>\n",
       "      <td>465</td>\n",
       "      <td>70</td>\n",
       "      <td>2020-03-14 17:30:00</td>\n",
       "    </tr>\n",
       "    <tr>\n",
       "      <th>7</th>\n",
       "      <td>198</td>\n",
       "      <td>70</td>\n",
       "      <td>2019-03-06 13:10:00</td>\n",
       "    </tr>\n",
       "    <tr>\n",
       "      <th>8</th>\n",
       "      <td>50</td>\n",
       "      <td>70</td>\n",
       "      <td>2018-08-07 21:57:00</td>\n",
       "    </tr>\n",
       "  </tbody>\n",
       "</table>\n",
       "</div>"
      ],
      "text/plain": [
       "   OrderID  CustomerID            OrderDate\n",
       "0     1001          70  2022-09-20 14:00:00\n",
       "1      887          70  2022-01-01 08:13:00\n",
       "2      855          70  2021-11-03 11:33:00\n",
       "3      836          70  2021-10-11 14:54:00\n",
       "4      695          70  2021-03-23 15:49:00\n",
       "5      523          70  2020-06-21 13:19:00\n",
       "6      465          70  2020-03-14 17:30:00\n",
       "7      198          70  2019-03-06 13:10:00\n",
       "8       50          70  2018-08-07 21:57:00"
      ]
     },
     "execution_count": 28,
     "metadata": {},
     "output_type": "execute_result"
    }
   ],
   "source": [
    "query = \"\"\"\n",
    "        SELECT *\n",
    "        FROM Orders\n",
    "        WHERE CustomerID = 70\n",
    "        ORDER BY OrderDate DESC\n",
    "\"\"\"\n",
    "pd.read_sql_query(query, cnn)"
   ]
  },
  {
   "cell_type": "code",
   "execution_count": 29,
   "id": "0f182226",
   "metadata": {},
   "outputs": [
    {
     "data": {
      "text/plain": [
       "<sqlite3.Cursor at 0x2bd53ec55e0>"
      ]
     },
     "execution_count": 29,
     "metadata": {},
     "output_type": "execute_result"
    }
   ],
   "source": [
    "# Adding items to the order created\n",
    "\n",
    "query = \"\"\"\n",
    "    INSERT INTO OrdersDishes(OrderID, DishID)\n",
    "    VALUES\n",
    "    (1001, (SELECT DishID FROM Dishes WHERE Name = 'House Salad')),\n",
    "    (1001, (SELECT DishID FROM Dishes WHERE Name = 'Mini Cheeseburgers')),\n",
    "    (1001, (SELECT DishID FROM Dishes WHERE Name = 'Tropical Blue Smoothie'))\n",
    "    \n",
    "\"\"\"\n",
    "c.execute(query)"
   ]
  },
  {
   "cell_type": "code",
   "execution_count": 30,
   "id": "e556dfda",
   "metadata": {},
   "outputs": [
    {
     "data": {
      "text/html": [
       "<div>\n",
       "<style scoped>\n",
       "    .dataframe tbody tr th:only-of-type {\n",
       "        vertical-align: middle;\n",
       "    }\n",
       "\n",
       "    .dataframe tbody tr th {\n",
       "        vertical-align: top;\n",
       "    }\n",
       "\n",
       "    .dataframe thead th {\n",
       "        text-align: right;\n",
       "    }\n",
       "</style>\n",
       "<table border=\"1\" class=\"dataframe\">\n",
       "  <thead>\n",
       "    <tr style=\"text-align: right;\">\n",
       "      <th></th>\n",
       "      <th>DishID</th>\n",
       "      <th>Name</th>\n",
       "      <th>Description</th>\n",
       "      <th>Price</th>\n",
       "      <th>Type</th>\n",
       "      <th>OrdersDishesID</th>\n",
       "      <th>OrderID</th>\n",
       "      <th>DishID</th>\n",
       "    </tr>\n",
       "  </thead>\n",
       "  <tbody>\n",
       "    <tr>\n",
       "      <th>0</th>\n",
       "      <td>7</td>\n",
       "      <td>House Salad</td>\n",
       "      <td>Our house salad is made with romaine lettuce a...</td>\n",
       "      <td>7.0</td>\n",
       "      <td>Main</td>\n",
       "      <td>4022</td>\n",
       "      <td>1001</td>\n",
       "      <td>7</td>\n",
       "    </tr>\n",
       "    <tr>\n",
       "      <th>1</th>\n",
       "      <td>4</td>\n",
       "      <td>Mini Cheeseburgers</td>\n",
       "      <td>These mini cheeseburgers are served on a fresh...</td>\n",
       "      <td>8.0</td>\n",
       "      <td>Main</td>\n",
       "      <td>4023</td>\n",
       "      <td>1001</td>\n",
       "      <td>4</td>\n",
       "    </tr>\n",
       "    <tr>\n",
       "      <th>2</th>\n",
       "      <td>20</td>\n",
       "      <td>Tropical Blue Smoothie</td>\n",
       "      <td>This blueberry mint-based smoothie is refreshi...</td>\n",
       "      <td>6.0</td>\n",
       "      <td>Beverage</td>\n",
       "      <td>4024</td>\n",
       "      <td>1001</td>\n",
       "      <td>20</td>\n",
       "    </tr>\n",
       "  </tbody>\n",
       "</table>\n",
       "</div>"
      ],
      "text/plain": [
       "   DishID                    Name  \\\n",
       "0       7             House Salad   \n",
       "1       4      Mini Cheeseburgers   \n",
       "2      20  Tropical Blue Smoothie   \n",
       "\n",
       "                                         Description  Price      Type  \\\n",
       "0  Our house salad is made with romaine lettuce a...    7.0      Main   \n",
       "1  These mini cheeseburgers are served on a fresh...    8.0      Main   \n",
       "2  This blueberry mint-based smoothie is refreshi...    6.0  Beverage   \n",
       "\n",
       "   OrdersDishesID  OrderID  DishID  \n",
       "0            4022     1001       7  \n",
       "1            4023     1001       4  \n",
       "2            4024     1001      20  "
      ]
     },
     "execution_count": 30,
     "metadata": {},
     "output_type": "execute_result"
    }
   ],
   "source": [
    "query = \"\"\"\n",
    "    SELECT *\n",
    "    FROM Dishes\n",
    "    JOIN OrdersDishes ON Dishes.DishID  = OrdersDishes.DishID\n",
    "    WHERE OrdersDishes.OrderID = 1001\n",
    "\"\"\"\n",
    "pd.read_sql_query(query, cnn)"
   ]
  },
  {
   "cell_type": "markdown",
   "id": "96239f1a",
   "metadata": {},
   "source": [
    "### Challenge 11\n",
    "\n",
    "Update information in the database.\n",
    "Set Cleo Goldwater's favorite dish to the Quinoa Salmon Salad"
   ]
  },
  {
   "cell_type": "code",
   "execution_count": 31,
   "id": "cd6cb2be",
   "metadata": {},
   "outputs": [
    {
     "data": {
      "text/html": [
       "<div>\n",
       "<style scoped>\n",
       "    .dataframe tbody tr th:only-of-type {\n",
       "        vertical-align: middle;\n",
       "    }\n",
       "\n",
       "    .dataframe tbody tr th {\n",
       "        vertical-align: top;\n",
       "    }\n",
       "\n",
       "    .dataframe thead th {\n",
       "        text-align: right;\n",
       "    }\n",
       "</style>\n",
       "<table border=\"1\" class=\"dataframe\">\n",
       "  <thead>\n",
       "    <tr style=\"text-align: right;\">\n",
       "      <th></th>\n",
       "      <th>DishID</th>\n",
       "      <th>Name</th>\n",
       "      <th>Description</th>\n",
       "      <th>Price</th>\n",
       "      <th>Type</th>\n",
       "    </tr>\n",
       "  </thead>\n",
       "  <tbody>\n",
       "    <tr>\n",
       "      <th>0</th>\n",
       "      <td>9</td>\n",
       "      <td>Quinoa Salmon Salad</td>\n",
       "      <td>Our quinoa salad is served with quinoa, tomato...</td>\n",
       "      <td>9.99</td>\n",
       "      <td>Main</td>\n",
       "    </tr>\n",
       "  </tbody>\n",
       "</table>\n",
       "</div>"
      ],
      "text/plain": [
       "   DishID                 Name  \\\n",
       "0       9  Quinoa Salmon Salad   \n",
       "\n",
       "                                         Description  Price  Type  \n",
       "0  Our quinoa salad is served with quinoa, tomato...   9.99  Main  "
      ]
     },
     "execution_count": 31,
     "metadata": {},
     "output_type": "execute_result"
    }
   ],
   "source": [
    "# Look what is Quinoa Salmon Salad's id\n",
    "query = \"\"\"\n",
    "    SELECT *\n",
    "    FROM Dishes\n",
    "    WHERE Name LIKE 'Qui%'\n",
    "\"\"\"\n",
    "pd.read_sql_query(query, cnn)"
   ]
  },
  {
   "cell_type": "code",
   "execution_count": 32,
   "id": "523daf7c",
   "metadata": {},
   "outputs": [
    {
     "data": {
      "text/html": [
       "<div>\n",
       "<style scoped>\n",
       "    .dataframe tbody tr th:only-of-type {\n",
       "        vertical-align: middle;\n",
       "    }\n",
       "\n",
       "    .dataframe tbody tr th {\n",
       "        vertical-align: top;\n",
       "    }\n",
       "\n",
       "    .dataframe thead th {\n",
       "        text-align: right;\n",
       "    }\n",
       "</style>\n",
       "<table border=\"1\" class=\"dataframe\">\n",
       "  <thead>\n",
       "    <tr style=\"text-align: right;\">\n",
       "      <th></th>\n",
       "      <th>CustomerID</th>\n",
       "      <th>FirstName</th>\n",
       "      <th>LastName</th>\n",
       "      <th>Email</th>\n",
       "      <th>Address</th>\n",
       "      <th>City</th>\n",
       "      <th>State</th>\n",
       "      <th>Phone</th>\n",
       "      <th>Birthday</th>\n",
       "      <th>FavoriteDish</th>\n",
       "    </tr>\n",
       "  </thead>\n",
       "  <tbody>\n",
       "    <tr>\n",
       "      <th>0</th>\n",
       "      <td>42</td>\n",
       "      <td>Cleo</td>\n",
       "      <td>Goldwater</td>\n",
       "      <td>cgoldwater15@landonhotel.com</td>\n",
       "      <td>9831 Evergreen Way</td>\n",
       "      <td>Tyler</td>\n",
       "      <td>TX</td>\n",
       "      <td>903-791-7266</td>\n",
       "      <td>1959-09-14</td>\n",
       "      <td>14</td>\n",
       "    </tr>\n",
       "  </tbody>\n",
       "</table>\n",
       "</div>"
      ],
      "text/plain": [
       "   CustomerID FirstName   LastName                         Email  \\\n",
       "0          42      Cleo  Goldwater  cgoldwater15@landonhotel.com   \n",
       "\n",
       "              Address   City State         Phone    Birthday  FavoriteDish  \n",
       "0  9831 Evergreen Way  Tyler    TX  903-791-7266  1959-09-14            14  "
      ]
     },
     "execution_count": 32,
     "metadata": {},
     "output_type": "execute_result"
    }
   ],
   "source": [
    "# Find the ID of the costumer\n",
    "query = \"\"\"\n",
    "    SELECT *\n",
    "    FROM Customers\n",
    "    WHERE FirstName LIKE 'Cleo%'\n",
    "\"\"\"\n",
    "pd.read_sql_query(query, cnn)"
   ]
  },
  {
   "cell_type": "code",
   "execution_count": 33,
   "id": "4265bd10",
   "metadata": {},
   "outputs": [
    {
     "data": {
      "text/plain": [
       "<sqlite3.Cursor at 0x2bd53ec55e0>"
      ]
     },
     "execution_count": 33,
     "metadata": {},
     "output_type": "execute_result"
    }
   ],
   "source": [
    "query = \"\"\"\n",
    "    UPDATE Customers\n",
    "    SET FavoriteDish = 9\n",
    "    WHERE CustomerID = 42\n",
    "\"\"\"\n",
    "c.execute(query)"
   ]
  },
  {
   "cell_type": "code",
   "execution_count": 34,
   "id": "69e9bf2b",
   "metadata": {},
   "outputs": [
    {
     "data": {
      "text/html": [
       "<div>\n",
       "<style scoped>\n",
       "    .dataframe tbody tr th:only-of-type {\n",
       "        vertical-align: middle;\n",
       "    }\n",
       "\n",
       "    .dataframe tbody tr th {\n",
       "        vertical-align: top;\n",
       "    }\n",
       "\n",
       "    .dataframe thead th {\n",
       "        text-align: right;\n",
       "    }\n",
       "</style>\n",
       "<table border=\"1\" class=\"dataframe\">\n",
       "  <thead>\n",
       "    <tr style=\"text-align: right;\">\n",
       "      <th></th>\n",
       "      <th>FirstName</th>\n",
       "      <th>LastName</th>\n",
       "      <th>FavoriteDish</th>\n",
       "      <th>DishID</th>\n",
       "      <th>Description</th>\n",
       "      <th>Name</th>\n",
       "    </tr>\n",
       "  </thead>\n",
       "  <tbody>\n",
       "    <tr>\n",
       "      <th>0</th>\n",
       "      <td>Cleo</td>\n",
       "      <td>Goldwater</td>\n",
       "      <td>9</td>\n",
       "      <td>9</td>\n",
       "      <td>Our quinoa salad is served with quinoa, tomato...</td>\n",
       "      <td>Quinoa Salmon Salad</td>\n",
       "    </tr>\n",
       "  </tbody>\n",
       "</table>\n",
       "</div>"
      ],
      "text/plain": [
       "  FirstName   LastName  FavoriteDish  DishID  \\\n",
       "0      Cleo  Goldwater             9       9   \n",
       "\n",
       "                                         Description                 Name  \n",
       "0  Our quinoa salad is served with quinoa, tomato...  Quinoa Salmon Salad  "
      ]
     },
     "execution_count": 34,
     "metadata": {},
     "output_type": "execute_result"
    }
   ],
   "source": [
    "query = \"\"\"\n",
    "    SELECT Customers.FirstName, Customers.LastName, Customers.FavoriteDish, \n",
    "           Dishes.DishID, Dishes.Description, Dishes.Name\n",
    "    FROM Customers\n",
    "    JOIN Dishes ON Customers.FavoriteDish = Dishes.DishID\n",
    "    WHERE Customers.FirstName LIKE 'Cleo%'\n",
    "\"\"\"\n",
    "pd.read_sql_query(query, cnn)"
   ]
  },
  {
   "cell_type": "markdown",
   "id": "01dc4837",
   "metadata": {},
   "source": [
    "### Challenge 12\n",
    "\n",
    "Identify a few customers who have ordered delivery from the restaurant the most often, so we can send them a promotional coupon."
   ]
  },
  {
   "cell_type": "code",
   "execution_count": 35,
   "id": "fc984544",
   "metadata": {},
   "outputs": [
    {
     "data": {
      "text/html": [
       "<div>\n",
       "<style scoped>\n",
       "    .dataframe tbody tr th:only-of-type {\n",
       "        vertical-align: middle;\n",
       "    }\n",
       "\n",
       "    .dataframe tbody tr th {\n",
       "        vertical-align: top;\n",
       "    }\n",
       "\n",
       "    .dataframe thead th {\n",
       "        text-align: right;\n",
       "    }\n",
       "</style>\n",
       "<table border=\"1\" class=\"dataframe\">\n",
       "  <thead>\n",
       "    <tr style=\"text-align: right;\">\n",
       "      <th></th>\n",
       "      <th>NumberOrders</th>\n",
       "      <th>CustomerID</th>\n",
       "      <th>FirstName</th>\n",
       "      <th>LastName</th>\n",
       "      <th>Email</th>\n",
       "    </tr>\n",
       "  </thead>\n",
       "  <tbody>\n",
       "    <tr>\n",
       "      <th>0</th>\n",
       "      <td>20</td>\n",
       "      <td>100</td>\n",
       "      <td>Blythe</td>\n",
       "      <td>Leggan</td>\n",
       "      <td>bleggan2r@rouxacademy.org</td>\n",
       "    </tr>\n",
       "    <tr>\n",
       "      <th>1</th>\n",
       "      <td>17</td>\n",
       "      <td>35</td>\n",
       "      <td>Luciano</td>\n",
       "      <td>Winton</td>\n",
       "      <td>lwintony@hplussport.com</td>\n",
       "    </tr>\n",
       "    <tr>\n",
       "      <th>2</th>\n",
       "      <td>16</td>\n",
       "      <td>27</td>\n",
       "      <td>Yves</td>\n",
       "      <td>Dell'Abbate</td>\n",
       "      <td>ydellabbateq@rouxacademy.org</td>\n",
       "    </tr>\n",
       "    <tr>\n",
       "      <th>3</th>\n",
       "      <td>15</td>\n",
       "      <td>64</td>\n",
       "      <td>Norby</td>\n",
       "      <td>Sleight</td>\n",
       "      <td>nsleight1r@kinetecoinc.com</td>\n",
       "    </tr>\n",
       "    <tr>\n",
       "      <th>4</th>\n",
       "      <td>15</td>\n",
       "      <td>39</td>\n",
       "      <td>Oralla</td>\n",
       "      <td>Dayer</td>\n",
       "      <td>odayer12@samoca.org</td>\n",
       "    </tr>\n",
       "    <tr>\n",
       "      <th>5</th>\n",
       "      <td>15</td>\n",
       "      <td>16</td>\n",
       "      <td>Carla</td>\n",
       "      <td>Swinfen</td>\n",
       "      <td>cswinfenf@kinetecoinc.com</td>\n",
       "    </tr>\n",
       "    <tr>\n",
       "      <th>6</th>\n",
       "      <td>14</td>\n",
       "      <td>76</td>\n",
       "      <td>Dyanna</td>\n",
       "      <td>Fulger</td>\n",
       "      <td>dfulger23@red30design.com</td>\n",
       "    </tr>\n",
       "    <tr>\n",
       "      <th>7</th>\n",
       "      <td>14</td>\n",
       "      <td>67</td>\n",
       "      <td>Whitney</td>\n",
       "      <td>Lamberts</td>\n",
       "      <td>wlamberts1u@red30design.com</td>\n",
       "    </tr>\n",
       "    <tr>\n",
       "      <th>8</th>\n",
       "      <td>14</td>\n",
       "      <td>57</td>\n",
       "      <td>Kahaleel</td>\n",
       "      <td>Keaton</td>\n",
       "      <td>kkeaton1k@kinetecoinc.com</td>\n",
       "    </tr>\n",
       "    <tr>\n",
       "      <th>9</th>\n",
       "      <td>14</td>\n",
       "      <td>30</td>\n",
       "      <td>Emlyn</td>\n",
       "      <td>Attwool</td>\n",
       "      <td>eattwoolt@hplussport.com</td>\n",
       "    </tr>\n",
       "  </tbody>\n",
       "</table>\n",
       "</div>"
      ],
      "text/plain": [
       "   NumberOrders  CustomerID FirstName     LastName  \\\n",
       "0            20         100    Blythe       Leggan   \n",
       "1            17          35   Luciano       Winton   \n",
       "2            16          27      Yves  Dell'Abbate   \n",
       "3            15          64     Norby      Sleight   \n",
       "4            15          39    Oralla        Dayer   \n",
       "5            15          16     Carla      Swinfen   \n",
       "6            14          76    Dyanna       Fulger   \n",
       "7            14          67   Whitney     Lamberts   \n",
       "8            14          57  Kahaleel       Keaton   \n",
       "9            14          30     Emlyn      Attwool   \n",
       "\n",
       "                          Email  \n",
       "0     bleggan2r@rouxacademy.org  \n",
       "1       lwintony@hplussport.com  \n",
       "2  ydellabbateq@rouxacademy.org  \n",
       "3    nsleight1r@kinetecoinc.com  \n",
       "4           odayer12@samoca.org  \n",
       "5     cswinfenf@kinetecoinc.com  \n",
       "6     dfulger23@red30design.com  \n",
       "7   wlamberts1u@red30design.com  \n",
       "8     kkeaton1k@kinetecoinc.com  \n",
       "9      eattwoolt@hplussport.com  "
      ]
     },
     "execution_count": 35,
     "metadata": {},
     "output_type": "execute_result"
    }
   ],
   "source": [
    "query = \"\"\"\n",
    "    SELECT COUNT(Orders.CustomerID) AS NumberOrders, Customers.CustomerID, \n",
    "           Customers.FirstName, Customers.LastName, Customers.Email\n",
    "    FROM Orders\n",
    "    JOIN Customers ON Orders.CustomerID = Customers.CustomerID\n",
    "    GROUP BY Orders.CustomerID\n",
    "    ORDER BY NumberOrders DESC\n",
    "    LIMIT 10\n",
    "\"\"\"\n",
    "pd.read_sql_query(query, cnn)"
   ]
  },
  {
   "cell_type": "markdown",
   "id": "d2781a7e",
   "metadata": {},
   "source": [
    "Close connections\n"
   ]
  },
  {
   "cell_type": "code",
   "execution_count": 36,
   "id": "e29e5533",
   "metadata": {},
   "outputs": [],
   "source": [
    "c.close()\n",
    "cnn.close()"
   ]
  }
 ],
 "metadata": {
  "kernelspec": {
   "display_name": "Python 3 (ipykernel)",
   "language": "python",
   "name": "python3"
  },
  "language_info": {
   "codemirror_mode": {
    "name": "ipython",
    "version": 3
   },
   "file_extension": ".py",
   "mimetype": "text/x-python",
   "name": "python",
   "nbconvert_exporter": "python",
   "pygments_lexer": "ipython3",
   "version": "3.9.13"
  }
 },
 "nbformat": 4,
 "nbformat_minor": 5
}
